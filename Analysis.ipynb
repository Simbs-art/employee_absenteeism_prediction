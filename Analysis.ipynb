{
 "cells": [
  {
   "cell_type": "markdown",
   "id": "425d1227",
   "metadata": {},
   "source": [
    "IRONHACK - FINAL PROJECT"
   ]
  },
  {
   "cell_type": "markdown",
   "id": "48335a26",
   "metadata": {},
   "source": [
    "PROJECT TITILE: Predicting and Understanding Employee Absenteeism Using Machine Learning."
   ]
  },
  {
   "cell_type": "markdown",
   "id": "148ccbb1",
   "metadata": {},
   "source": [
    "BUSINESS GOAL: Build a classification model to assist HR teams in identifying reasons for employees absenteeism based on a structured workforce data."
   ]
  },
  {
   "cell_type": "markdown",
   "id": "60b272ad",
   "metadata": {},
   "source": [
    "DATASET: Employee Absenteeism, from Kaggle.\n",
    "- SUPERVISED ML PROJECT"
   ]
  },
  {
   "cell_type": "markdown",
   "id": "324044e6",
   "metadata": {},
   "source": [
    "Dataset Overview: Employee Absenteeism at Work\n",
    "- This dataset records employee absence behavior at a Brazilian courier company over a period of several years. It aims to understand which factors influence how often and how long employees are absent from work. It's widely used in HR analytics to support productivity optimization, health policy planning, and absentee cost reduction."
   ]
  },
  {
   "cell_type": "markdown",
   "id": "de5068e9",
   "metadata": {},
   "source": [
    "Dataset Characteristics\n",
    "- Size: 740 records × 21 columns\n",
    "- Task Type: Primarily regression (predicting Absenteeism time in hours)\n",
    "     - Can also support classification (e.g., low/medium/high absenteeism)\n",
    "- Data Source: Real-world HR records from a courier company\n",
    "- Target Variable: Absenteeism time in hours\n",
    "- Balanced: The target is continuous and not heavily skewed\n",
    "- Feature Types:\n",
    "     - Categorical: Reason for absence, Season, Day of week, Education, etc.\n",
    "     - Numerical: Age, Workload, Distance, etc.\n",
    "     - Binary: Social drinker, Disciplinary failure, Social smoker"
   ]
  },
  {
   "cell_type": "markdown",
   "id": "072ad9b3",
   "metadata": {},
   "source": [
    "BUSINESS QUESTIONS:\n",
    "1. Can we predict how many hours an employee will be absent based on their work and health profile? (Regression)\n",
    "2. Which factors most strongly influence employee absenteeism?\n",
    "3. Are there patterns in absenteeism by day of week, season, or distance from work?\n",
    "4. Do health-related reasons (e.g., diseases, accidents) explain most absences?\n",
    "5. Can we classify employees into low, medium, and high absenteeism risk categories?\n",
    "6. Does absenteeism vary significantly across departments, education levels, or job roles?\n",
    "7. Are certain employees abusing the system (e.g., frequent short absences)? "
   ]
  },
  {
   "cell_type": "markdown",
   "id": "5ced1965",
   "metadata": {},
   "source": []
  },
  {
   "cell_type": "code",
   "execution_count": null,
   "id": "a9b58157",
   "metadata": {
    "vscode": {
     "languageId": "plaintext"
    }
   },
   "outputs": [],
   "source": []
  }
 ],
 "metadata": {
  "language_info": {
   "name": "python"
  }
 },
 "nbformat": 4,
 "nbformat_minor": 5
}
